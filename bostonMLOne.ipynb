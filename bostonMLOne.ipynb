{
  "cells": [
    {
      "cell_type": "code",
      "execution_count": null,
      "metadata": {
        "id": "4YkxN3BTF6ba"
      },
      "outputs": [
        {
          "ename": "",
          "evalue": "",
          "output_type": "error",
          "traceback": [
            "\u001b[1;31mRunning cells with 'Python 3.10.2 64-bit' requires ipykernel package.\n",
            "Run the following command to install 'ipykernel' into the Python environment. \n",
            "Command: 'C:/Users/abhin/AppData/Local/Programs/Python/Python310/python.exe -m pip install ipykernel -U --user --force-reinstall'"
          ]
        }
      ],
      "source": [
        "# importing our dependencies\n",
        "import pandas as pd\n",
        "import numpy as np\n",
        "from sklearn import linear_model\n",
        "# sklearn is a machine learing library for python\n",
        "# linear_model here means using linear regression here\n",
        "from sklearn.model_selection import train_test_split\n",
        " "
      ]
    },
    {
      "cell_type": "code",
      "execution_count": null,
      "metadata": {
        "id": "85uLQBUaH3As"
      },
      "outputs": [],
      "source": [
        "# here we are going to load boston housing dataset from sklearn.datasets and print it\n",
        "from sklearn.datasets import load_boston\n",
        "boston = load_boston() \n",
        "print(boston)"
      ]
    },
    {
      "cell_type": "code",
      "execution_count": null,
      "metadata": {
        "id": "2e_ErbmxKUUe"
      },
      "outputs": [],
      "source": [
        "# Transform the dataset into a dataframe\n",
        "# data = the data we want for the indepent variables also known as the X values\n",
        "# feaures_name  = column names of the data\n",
        "# target = target variables for the price of the houses or dependet variables also known as Y value\n",
        "\n",
        "# df_x will hold x values\n",
        "df_x = pd.DataFrame(boston.data , columns = boston.feature_names)\n",
        "# df_y will hold y values\n",
        "df_y = pd.DataFrame(boston.target)"
      ]
    },
    {
      "cell_type": "code",
      "execution_count": null,
      "metadata": {
        "id": "zJUMCu9_LyQw"
      },
      "outputs": [],
      "source": [
        "# Get some statistics from the data set like the count and the name , mean\n",
        "df_x.describe()"
      ]
    },
    {
      "cell_type": "code",
      "execution_count": null,
      "metadata": {
        "id": "c_TFpoWyMMy7"
      },
      "outputs": [],
      "source": [
        "# Intialize the linear regression model\n",
        "reg = linear_model.LinearRegression()"
      ]
    },
    {
      "cell_type": "code",
      "execution_count": null,
      "metadata": {
        "id": "0MReU9pVMfnp"
      },
      "outputs": [],
      "source": [
        "# 67 % Training and 33% Testing Data\n",
        "# Split the data into 67% Trainig and 33% Testing\n",
        "x_train , x_test , y_train , y_test = train_test_split(df_x , df_y , test_size = 0.33 , random_state = 42)"
      ]
    },
    {
      "cell_type": "code",
      "execution_count": null,
      "metadata": {
        "id": "Q0jN9s6GNHhB"
      },
      "outputs": [],
      "source": [
        "# Train the model with our training Data\n",
        "reg.fit(x_train , y_train)"
      ]
    },
    {
      "cell_type": "code",
      "execution_count": null,
      "metadata": {
        "id": "5lseiTDZNWeC"
      },
      "outputs": [],
      "source": [
        "# Print the weights/Coeffeicent for the each column/feature of our model\n",
        "# f(x) = mx+b = y coefficent is m\n",
        "# f(x , a) = mx+da+b = y \n",
        "# here m and d are coefficents\n",
        "\n",
        "print(reg.coef_)"
      ]
    },
    {
      "cell_type": "code",
      "execution_count": null,
      "metadata": {
        "id": "izWwEm0FOP64"
      },
      "outputs": [],
      "source": [
        "# Print the predictions on our test data\n",
        "y_pred = reg.predict(x_test)\n",
        "print(y_pred)"
      ]
    },
    {
      "cell_type": "code",
      "execution_count": null,
      "metadata": {
        "id": "2Y2ivKAAOqf1"
      },
      "outputs": [],
      "source": [
        "# Print the actual values\n",
        "print(y_test)"
      ]
    },
    {
      "cell_type": "code",
      "execution_count": null,
      "metadata": {
        "id": "NJrBJiusPDCw"
      },
      "outputs": [],
      "source": [
        "# Check the model performance accurecy using mean square Error(MSE)\n",
        "print(np.mean((y_pred - y_test)**2))"
      ]
    }
  ],
  "metadata": {
    "colab": {
      "name": "bostonMLOne.ipynb",
      "provenance": []
    },
    "kernelspec": {
      "display_name": "Python 3",
      "name": "python3"
    },
    "language_info": {
      "name": "python",
      "version": "3.10.2"
    }
  },
  "nbformat": 4,
  "nbformat_minor": 0
}
